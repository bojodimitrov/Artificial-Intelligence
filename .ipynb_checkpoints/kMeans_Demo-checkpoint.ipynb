{
 "cells": [
  {
   "cell_type": "markdown",
   "metadata": {},
   "source": [
    "# kMeans Exercise\n",
    "\n",
    "This notebook contains code for clustering with the kMeans algorithm.\n",
    "\n",
    "It performs the following:\n",
    "1. Read data from a text file\n",
    "2. Apply kMeans clustering to this data\n",
    "3. Plot the clusters\n",
    "\n",
    "Please complete the sections with TODO in order to complete the exercise."
   ]
  },
  {
   "cell_type": "markdown",
   "metadata": {},
   "source": [
    "## Parameters\n",
    "\n",
    "Here we give the parameters of the system:\n",
    "* path to the file with data points\n",
    "* k - the number of clusters to split the data to"
   ]
  },
  {
   "cell_type": "code",
   "execution_count": null,
   "metadata": {
    "collapsed": true
   },
   "outputs": [],
   "source": [
    "# Parameters \n",
    "filename = 'data/normal.txt'\n",
    "k = 4"
   ]
  },
  {
   "cell_type": "markdown",
   "metadata": {},
   "source": [
    "## Read the data\n",
    "\n",
    "Please implement the function *read_from_file* which "
   ]
  },
  {
   "cell_type": "code",
   "execution_count": null,
   "metadata": {
    "collapsed": true
   },
   "outputs": [],
   "source": [
    "# Reads the data from the given tsv **file**.\n",
    "# Returns:\n",
    "# - two-dimensional array (list) containing the data. Each line contains a list with float values read from the file.\n",
    "def read_from_file(file):\n",
    "    # TODO implement reading from file\n",
    "     ..."
   ]
  },
  {
   "cell_type": "code",
   "execution_count": null,
   "metadata": {
    "collapsed": true
   },
   "outputs": [],
   "source": [
    "# Read the data\n",
    "data = read_from_file(filename)\n",
    "\n",
    "# Print a sample\n",
    "print('Sample of the data:\\n', data[:5])"
   ]
  },
  {
   "cell_type": "code",
   "execution_count": null,
   "metadata": {
    "collapsed": true
   },
   "outputs": [],
   "source": [
    "# Plot the data\n",
    "import matplotlib\n",
    "import matplotlib.pyplot as plt\n",
    "\n",
    "plt.scatter(data[:, 0],data[:, 1])\n",
    "plt.show()"
   ]
  },
  {
   "cell_type": "markdown",
   "metadata": {},
   "source": [
    "## Implement kMeans\n",
    "\n",
    "Please implement the function *kmeans* in order to split the data into clusters.\n",
    "\n",
    "**Note**: You must implement the algorithm yourself rather than using a library which does it, in order to have the assignment considered as a valid homework."
   ]
  },
  {
   "cell_type": "code",
   "execution_count": null,
   "metadata": {
    "collapsed": true
   },
   "outputs": [],
   "source": [
    "# Clusters the given **data** in **k** clusters\n",
    "# Returns:\n",
    "# - array with the cluster centers\n",
    "# - array with values = index of the cluster center for each data point\n",
    "def kmeans(data, k):\n",
    "    # TODO: Implement clustering using the kmeans algorithm\n",
    "    ..."
   ]
  },
  {
   "cell_type": "code",
   "execution_count": null,
   "metadata": {
    "collapsed": true
   },
   "outputs": [],
   "source": [
    "# Apply kmenas to our data\n",
    "cluster_centers, assigned_centers = kmeans(data, k)"
   ]
  },
  {
   "cell_type": "code",
   "execution_count": null,
   "metadata": {
    "collapsed": true
   },
   "outputs": [],
   "source": [
    "# Print some info about the clustering\n",
    "print('Cluster centers:', cluster_centers)\n",
    "print('Data has length:', len(data))\n",
    "print('Assigned cluster centers list has length:', len(assigned_centers))\n",
    "print('Sample of assigned centers:', assigned_centers[:5])"
   ]
  },
  {
   "cell_type": "code",
   "execution_count": null,
   "metadata": {
    "collapsed": true
   },
   "outputs": [],
   "source": [
    "# Display the clusters\n",
    "plt.scatter(data[:,0],data[:,1], c=[matplotlib.cm.spectral(float(i) /10) for i in assigned_centers]);   \n",
    "plt.show()"
   ]
  }
 ],
 "metadata": {
  "kernelspec": {
   "display_name": "Python 3",
   "language": "python",
   "name": "python3"
  },
  "language_info": {
   "codemirror_mode": {
    "name": "ipython",
    "version": 3
   },
   "file_extension": ".py",
   "mimetype": "text/x-python",
   "name": "python",
   "nbconvert_exporter": "python",
   "pygments_lexer": "ipython3",
   "version": "3.6.3"
  }
 },
 "nbformat": 4,
 "nbformat_minor": 2
}
